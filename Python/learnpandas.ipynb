{
 "metadata": {
  "language_info": {
   "codemirror_mode": {
    "name": "ipython",
    "version": 3
   },
   "file_extension": ".py",
   "mimetype": "text/x-python",
   "name": "python",
   "nbconvert_exporter": "python",
   "pygments_lexer": "ipython3",
   "version": "3.9.1"
  },
  "orig_nbformat": 2,
  "kernelspec": {
   "name": "python391jvsc74a57bd02647ea34e536f865ab67ff9ddee7fd78773d956cec0cab53c79b32cd10da5d83",
   "display_name": "Python 3.9.1 64-bit"
  },
  "metadata": {
   "interpreter": {
    "hash": "2647ea34e536f865ab67ff9ddee7fd78773d956cec0cab53c79b32cd10da5d83"
   }
  }
 },
 "nbformat": 4,
 "nbformat_minor": 2,
 "cells": [
  {
   "cell_type": "code",
   "execution_count": 90,
   "metadata": {},
   "outputs": [],
   "source": [
    "from pandas import *\n",
    "from numpy import *"
   ]
  },
  {
   "cell_type": "code",
   "execution_count": 152,
   "metadata": {},
   "outputs": [
    {
     "output_type": "execute_result",
     "data": {
      "text/plain": [
       "      Name  Age  Rating\n",
       "0      Tom   25    4.23\n",
       "1    James   26    3.24\n",
       "2    Ricky   25    3.98\n",
       "3      Vin   23    2.56\n",
       "4    Steve   30    3.20\n",
       "5    Smith   29    4.60\n",
       "6     Jack   23    3.80\n",
       "7      Lee   34    3.78\n",
       "8    David   40    2.98\n",
       "9   Gasper   30    4.80\n",
       "10  Betina   51    4.10\n",
       "11  Andres   46    3.65"
      ],
      "text/html": "<div>\n<style scoped>\n    .dataframe tbody tr th:only-of-type {\n        vertical-align: middle;\n    }\n\n    .dataframe tbody tr th {\n        vertical-align: top;\n    }\n\n    .dataframe thead th {\n        text-align: right;\n    }\n</style>\n<table border=\"1\" class=\"dataframe\">\n  <thead>\n    <tr style=\"text-align: right;\">\n      <th></th>\n      <th>Name</th>\n      <th>Age</th>\n      <th>Rating</th>\n    </tr>\n  </thead>\n  <tbody>\n    <tr>\n      <th>0</th>\n      <td>Tom</td>\n      <td>25</td>\n      <td>4.23</td>\n    </tr>\n    <tr>\n      <th>1</th>\n      <td>James</td>\n      <td>26</td>\n      <td>3.24</td>\n    </tr>\n    <tr>\n      <th>2</th>\n      <td>Ricky</td>\n      <td>25</td>\n      <td>3.98</td>\n    </tr>\n    <tr>\n      <th>3</th>\n      <td>Vin</td>\n      <td>23</td>\n      <td>2.56</td>\n    </tr>\n    <tr>\n      <th>4</th>\n      <td>Steve</td>\n      <td>30</td>\n      <td>3.20</td>\n    </tr>\n    <tr>\n      <th>5</th>\n      <td>Smith</td>\n      <td>29</td>\n      <td>4.60</td>\n    </tr>\n    <tr>\n      <th>6</th>\n      <td>Jack</td>\n      <td>23</td>\n      <td>3.80</td>\n    </tr>\n    <tr>\n      <th>7</th>\n      <td>Lee</td>\n      <td>34</td>\n      <td>3.78</td>\n    </tr>\n    <tr>\n      <th>8</th>\n      <td>David</td>\n      <td>40</td>\n      <td>2.98</td>\n    </tr>\n    <tr>\n      <th>9</th>\n      <td>Gasper</td>\n      <td>30</td>\n      <td>4.80</td>\n    </tr>\n    <tr>\n      <th>10</th>\n      <td>Betina</td>\n      <td>51</td>\n      <td>4.10</td>\n    </tr>\n    <tr>\n      <th>11</th>\n      <td>Andres</td>\n      <td>46</td>\n      <td>3.65</td>\n    </tr>\n  </tbody>\n</table>\n</div>"
     },
     "metadata": {},
     "execution_count": 152
    }
   ],
   "source": [
    "d = {'Name':Series(['Tom','James','Ricky','Vin','Steve','Smith','Jack',\n",
    "   'Lee','David','Gasper','Betina','Andres']),\n",
    "   'Age':Series([25,26,25,23,30,29,23,34,40,30,51,46]),\n",
    "   'Rating':Series([4.23,3.24,3.98,2.56,3.20,4.6,3.8,3.78,2.98,4.80,4.10,3.65])\n",
    "}\n",
    " \n",
    "#Create a DataFrame\n",
    "df = DataFrame(d)\n",
    "\n",
    "df"
   ]
  }
 ]
}